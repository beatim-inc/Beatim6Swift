{
 "cells": [
  {
   "cell_type": "code",
   "execution_count": 27,
   "metadata": {},
   "outputs": [],
   "source": [
    "import json\n",
    "import spotipy\n",
    "from spotipy.oauth2 import SpotifyClientCredentials\n",
    "\n",
    "# Spotify API 認証情報\n",
    "with open(\"config.json\", \"r\") as f:\n",
    "    config = json.load(f)\n",
    "\n",
    "CLIENT_ID = config[\"CLIENT_ID\"]\n",
    "CLIENT_SECRET = config[\"CLIENT_SECRET\"]\n",
    "\n",
    "#spotifyインスタンスを作成\n",
    "sp = spotipy.Spotify(\n",
    "    auth_manager=SpotifyClientCredentials(\n",
    "        client_id=CLIENT_ID, #Client ID\n",
    "\t    client_secret=CLIENT_SECRET, #Client Secret\n",
    "    )\n",
    ")"
   ]
  },
  {
   "cell_type": "code",
   "execution_count": 28,
   "metadata": {},
   "outputs": [
    {
     "name": "stdout",
     "output_type": "stream",
     "text": [
      "{'album': {'album_type': 'album', 'artists': [{'external_urls': {'spotify': 'https://open.spotify.com/artist/2NmgIfLAFl1DD1FZOY4YqC'}, 'href': 'https://api.spotify.com/v1/artists/2NmgIfLAFl1DD1FZOY4YqC', 'id': '2NmgIfLAFl1DD1FZOY4YqC', 'name': 'Masayoshi Oishi', 'type': 'artist', 'uri': 'spotify:artist:2NmgIfLAFl1DD1FZOY4YqC'}], 'available_markets': ['AR', 'AU', 'AT', 'BE', 'BO', 'BR', 'BG', 'CA', 'CL', 'CO', 'CR', 'CY', 'CZ', 'DK', 'DO', 'DE', 'EC', 'EE', 'SV', 'FI', 'FR', 'GR', 'GT', 'HN', 'HK', 'HU', 'IS', 'IE', 'IT', 'LV', 'LT', 'LU', 'MY', 'MT', 'MX', 'NL', 'NZ', 'NI', 'NO', 'PA', 'PY', 'PE', 'PH', 'PL', 'PT', 'SG', 'SK', 'ES', 'SE', 'CH', 'TW', 'TR', 'UY', 'US', 'GB', 'AD', 'LI', 'MC', 'ID', 'JP', 'TH', 'VN', 'RO', 'IL', 'ZA', 'SA', 'AE', 'BH', 'QA', 'OM', 'KW', 'EG', 'MA', 'DZ', 'TN', 'LB', 'JO', 'PS', 'IN', 'BY', 'KZ', 'MD', 'UA', 'AL', 'BA', 'HR', 'ME', 'MK', 'RS', 'SI', 'KR', 'BD', 'PK', 'LK', 'GH', 'KE', 'NG', 'TZ', 'UG', 'AG', 'AM', 'BS', 'BB', 'BZ', 'BT', 'BW', 'BF', 'CV', 'CW', 'DM', 'FJ', 'GM', 'GE', 'GD', 'GW', 'GY', 'HT', 'JM', 'KI', 'LS', 'LR', 'MW', 'MV', 'ML', 'MH', 'FM', 'NA', 'NR', 'NE', 'PW', 'PG', 'PR', 'WS', 'SM', 'ST', 'SN', 'SC', 'SL', 'SB', 'KN', 'LC', 'VC', 'SR', 'TL', 'TO', 'TT', 'TV', 'VU', 'AZ', 'BN', 'BI', 'KH', 'CM', 'TD', 'KM', 'GQ', 'SZ', 'GA', 'GN', 'KG', 'LA', 'MO', 'MR', 'MN', 'NP', 'RW', 'TG', 'UZ', 'ZW', 'BJ', 'MG', 'MU', 'MZ', 'AO', 'CI', 'DJ', 'ZM', 'CD', 'CG', 'IQ', 'LY', 'TJ', 'VE', 'ET', 'XK'], 'external_urls': {'spotify': 'https://open.spotify.com/album/0302LeRxu3lj5CMsuyNv7o'}, 'href': 'https://api.spotify.com/v1/albums/0302LeRxu3lj5CMsuyNv7o', 'id': '0302LeRxu3lj5CMsuyNv7o', 'images': [{'height': 640, 'width': 640, 'url': 'https://i.scdn.co/image/ab67616d0000b2734a4973f86a88d2704d5d2434'}, {'height': 300, 'width': 300, 'url': 'https://i.scdn.co/image/ab67616d00001e024a4973f86a88d2704d5d2434'}, {'height': 64, 'width': 64, 'url': 'https://i.scdn.co/image/ab67616d000048514a4973f86a88d2704d5d2434'}], 'is_playable': True, 'name': 'カバーアルバム「仮歌」', 'release_date': '2017-07-26', 'release_date_precision': 'day', 'total_tracks': 11, 'type': 'album', 'uri': 'spotify:album:0302LeRxu3lj5CMsuyNv7o'}, 'artists': [{'external_urls': {'spotify': 'https://open.spotify.com/artist/2NmgIfLAFl1DD1FZOY4YqC'}, 'href': 'https://api.spotify.com/v1/artists/2NmgIfLAFl1DD1FZOY4YqC', 'id': '2NmgIfLAFl1DD1FZOY4YqC', 'name': 'Masayoshi Oishi', 'type': 'artist', 'uri': 'spotify:artist:2NmgIfLAFl1DD1FZOY4YqC'}], 'available_markets': ['AR', 'AU', 'AT', 'BE', 'BO', 'BR', 'BG', 'CA', 'CL', 'CO', 'CR', 'CY', 'CZ', 'DK', 'DO', 'DE', 'EC', 'EE', 'SV', 'FI', 'FR', 'GR', 'GT', 'HN', 'HK', 'HU', 'IS', 'IE', 'IT', 'LV', 'LT', 'LU', 'MY', 'MT', 'MX', 'NL', 'NZ', 'NI', 'NO', 'PA', 'PY', 'PE', 'PH', 'PL', 'PT', 'SG', 'SK', 'ES', 'SE', 'CH', 'TW', 'TR', 'UY', 'US', 'GB', 'AD', 'LI', 'MC', 'ID', 'JP', 'TH', 'VN', 'RO', 'IL', 'ZA', 'SA', 'AE', 'BH', 'QA', 'OM', 'KW', 'EG', 'MA', 'DZ', 'TN', 'LB', 'JO', 'PS', 'IN', 'BY', 'KZ', 'MD', 'UA', 'AL', 'BA', 'HR', 'ME', 'MK', 'RS', 'SI', 'KR', 'BD', 'PK', 'LK', 'GH', 'KE', 'NG', 'TZ', 'UG', 'AG', 'AM', 'BS', 'BB', 'BZ', 'BT', 'BW', 'BF', 'CV', 'CW', 'DM', 'FJ', 'GM', 'GE', 'GD', 'GW', 'GY', 'HT', 'JM', 'KI', 'LS', 'LR', 'MW', 'MV', 'ML', 'MH', 'FM', 'NA', 'NR', 'NE', 'PW', 'PG', 'PR', 'WS', 'SM', 'ST', 'SN', 'SC', 'SL', 'SB', 'KN', 'LC', 'VC', 'SR', 'TL', 'TO', 'TT', 'TV', 'VU', 'AZ', 'BN', 'BI', 'KH', 'CM', 'TD', 'KM', 'GQ', 'SZ', 'GA', 'GN', 'KG', 'LA', 'MO', 'MR', 'MN', 'NP', 'RW', 'TG', 'UZ', 'ZW', 'BJ', 'MG', 'MU', 'MZ', 'AO', 'CI', 'DJ', 'ZM', 'CD', 'CG', 'IQ', 'LY', 'TJ', 'VE', 'ET', 'XK'], 'disc_number': 1, 'duration_ms': 231493, 'explicit': False, 'external_ids': {'isrc': 'JPJ901706330'}, 'external_urls': {'spotify': 'https://open.spotify.com/track/7ComeQv7Lj3XbEpuY4TyHE'}, 'href': 'https://api.spotify.com/v1/tracks/7ComeQv7Lj3XbEpuY4TyHE', 'id': '7ComeQv7Lj3XbEpuY4TyHE', 'is_local': False, 'is_playable': True, 'name': '君じゃなきゃダメみたい', 'popularity': 51, 'preview_url': None, 'track_number': 11, 'type': 'track', 'uri': 'spotify:track:7ComeQv7Lj3XbEpuY4TyHE'}\n",
      "君じゃなきゃダメみたい : 7ComeQv7Lj3XbEpuY4TyHE\n",
      "{'album': {'album_type': 'single', 'artists': [{'external_urls': {'spotify': 'https://open.spotify.com/artist/5FGlhIQqewJRV8fx24toG0'}, 'href': 'https://api.spotify.com/v1/artists/5FGlhIQqewJRV8fx24toG0', 'id': '5FGlhIQqewJRV8fx24toG0', 'name': 'Masaharu Fukuyama', 'type': 'artist', 'uri': 'spotify:artist:5FGlhIQqewJRV8fx24toG0'}], 'available_markets': ['AR', 'AU', 'AT', 'BE', 'BO', 'BR', 'BG', 'CA', 'CL', 'CO', 'CR', 'CY', 'CZ', 'DK', 'DO', 'DE', 'EC', 'EE', 'SV', 'FI', 'FR', 'GR', 'GT', 'HN', 'HK', 'HU', 'IS', 'IE', 'IT', 'LV', 'LT', 'LU', 'MY', 'MT', 'MX', 'NL', 'NZ', 'NI', 'NO', 'PA', 'PY', 'PE', 'PH', 'PL', 'PT', 'SG', 'SK', 'ES', 'SE', 'CH', 'TW', 'TR', 'UY', 'US', 'GB', 'AD', 'LI', 'MC', 'ID', 'JP', 'TH', 'VN', 'RO', 'IL', 'ZA', 'SA', 'AE', 'BH', 'QA', 'OM', 'KW', 'EG', 'MA', 'DZ', 'TN', 'LB', 'JO', 'PS', 'IN', 'BY', 'KZ', 'MD', 'UA', 'AL', 'BA', 'HR', 'ME', 'MK', 'RS', 'SI', 'KR', 'BD', 'PK', 'LK', 'GH', 'KE', 'NG', 'TZ', 'UG', 'AG', 'AM', 'BS', 'BB', 'BZ', 'BT', 'BW', 'BF', 'CV', 'CW', 'DM', 'FJ', 'GM', 'GE', 'GD', 'GW', 'GY', 'HT', 'JM', 'KI', 'LS', 'LR', 'MW', 'MV', 'ML', 'MH', 'FM', 'NA', 'NR', 'NE', 'PW', 'PG', 'WS', 'SM', 'ST', 'SN', 'SC', 'SL', 'SB', 'KN', 'LC', 'VC', 'SR', 'TL', 'TO', 'TT', 'TV', 'VU', 'AZ', 'BN', 'BI', 'KH', 'CM', 'TD', 'KM', 'GQ', 'SZ', 'GA', 'GN', 'KG', 'LA', 'MO', 'MR', 'MN', 'NP', 'RW', 'TG', 'UZ', 'ZW', 'BJ', 'MG', 'MU', 'MZ', 'AO', 'CI', 'DJ', 'ZM', 'CD', 'CG', 'IQ', 'LY', 'TJ', 'VE', 'ET', 'XK'], 'external_urls': {'spotify': 'https://open.spotify.com/album/5MeDuYgJK9DYM1cO8zSAGs'}, 'href': 'https://api.spotify.com/v1/albums/5MeDuYgJK9DYM1cO8zSAGs', 'id': '5MeDuYgJK9DYM1cO8zSAGs', 'images': [{'height': 640, 'width': 640, 'url': 'https://i.scdn.co/image/ab67616d0000b27359c04b1a744af152f54715ad'}, {'height': 300, 'width': 300, 'url': 'https://i.scdn.co/image/ab67616d00001e0259c04b1a744af152f54715ad'}, {'height': 64, 'width': 64, 'url': 'https://i.scdn.co/image/ab67616d0000485159c04b1a744af152f54715ad'}], 'is_playable': True, 'name': '虹／ひまわり／それがすべてさ', 'release_date': '2003-08-27', 'release_date_precision': 'day', 'total_tracks': 8, 'type': 'album', 'uri': 'spotify:album:5MeDuYgJK9DYM1cO8zSAGs'}, 'artists': [{'external_urls': {'spotify': 'https://open.spotify.com/artist/5FGlhIQqewJRV8fx24toG0'}, 'href': 'https://api.spotify.com/v1/artists/5FGlhIQqewJRV8fx24toG0', 'id': '5FGlhIQqewJRV8fx24toG0', 'name': 'Masaharu Fukuyama', 'type': 'artist', 'uri': 'spotify:artist:5FGlhIQqewJRV8fx24toG0'}], 'available_markets': ['AR', 'AU', 'AT', 'BE', 'BO', 'BR', 'BG', 'CA', 'CL', 'CO', 'CR', 'CY', 'CZ', 'DK', 'DO', 'DE', 'EC', 'EE', 'SV', 'FI', 'FR', 'GR', 'GT', 'HN', 'HK', 'HU', 'IS', 'IE', 'IT', 'LV', 'LT', 'LU', 'MY', 'MT', 'MX', 'NL', 'NZ', 'NI', 'NO', 'PA', 'PY', 'PE', 'PH', 'PL', 'PT', 'SG', 'SK', 'ES', 'SE', 'CH', 'TW', 'TR', 'UY', 'US', 'GB', 'AD', 'LI', 'MC', 'ID', 'JP', 'TH', 'VN', 'RO', 'IL', 'ZA', 'SA', 'AE', 'BH', 'QA', 'OM', 'KW', 'EG', 'MA', 'DZ', 'TN', 'LB', 'JO', 'PS', 'IN', 'BY', 'KZ', 'MD', 'UA', 'AL', 'BA', 'HR', 'ME', 'MK', 'RS', 'SI', 'KR', 'BD', 'PK', 'LK', 'GH', 'KE', 'NG', 'TZ', 'UG', 'AG', 'AM', 'BS', 'BB', 'BZ', 'BT', 'BW', 'BF', 'CV', 'CW', 'DM', 'FJ', 'GM', 'GE', 'GD', 'GW', 'GY', 'HT', 'JM', 'KI', 'LS', 'LR', 'MW', 'MV', 'ML', 'MH', 'FM', 'NA', 'NR', 'NE', 'PW', 'PG', 'WS', 'SM', 'ST', 'SN', 'SC', 'SL', 'SB', 'KN', 'LC', 'VC', 'SR', 'TL', 'TO', 'TT', 'TV', 'VU', 'AZ', 'BN', 'BI', 'KH', 'CM', 'TD', 'KM', 'GQ', 'SZ', 'GA', 'GN', 'KG', 'LA', 'MO', 'MR', 'MN', 'NP', 'RW', 'TG', 'UZ', 'ZW', 'BJ', 'MG', 'MU', 'MZ', 'AO', 'CI', 'DJ', 'ZM', 'CD', 'CG', 'IQ', 'LY', 'TJ', 'VE', 'ET', 'XK'], 'disc_number': 1, 'duration_ms': 248546, 'explicit': False, 'external_ids': {'isrc': 'JPMV00304450'}, 'external_urls': {'spotify': 'https://open.spotify.com/track/5zxOkA6L5DJpS0Ajb0Qx2t'}, 'href': 'https://api.spotify.com/v1/tracks/5zxOkA6L5DJpS0Ajb0Qx2t', 'id': '5zxOkA6L5DJpS0Ajb0Qx2t', 'is_local': False, 'is_playable': True, 'name': '虹', 'popularity': 52, 'preview_url': None, 'track_number': 1, 'type': 'track', 'uri': 'spotify:track:5zxOkA6L5DJpS0Ajb0Qx2t'}\n",
      "虹 : 5zxOkA6L5DJpS0Ajb0Qx2t\n",
      "{'album': {'album_type': 'single', 'artists': [{'external_urls': {'spotify': 'https://open.spotify.com/artist/5fuEw5UqrTkW8hVAbBClv2'}, 'href': 'https://api.spotify.com/v1/artists/5fuEw5UqrTkW8hVAbBClv2', 'id': '5fuEw5UqrTkW8hVAbBClv2', 'name': 'オーイシマサヨシ', 'type': 'artist', 'uri': 'spotify:artist:5fuEw5UqrTkW8hVAbBClv2'}], 'available_markets': ['JP'], 'external_urls': {'spotify': 'https://open.spotify.com/album/50w1xiMLginyYcDnU2RE7f'}, 'href': 'https://api.spotify.com/v1/albums/50w1xiMLginyYcDnU2RE7f', 'id': '50w1xiMLginyYcDnU2RE7f', 'images': [{'height': 640, 'width': 640, 'url': 'https://i.scdn.co/image/ab67616d0000b27376451c7c60866a3ccd75ac2b'}, {'height': 300, 'width': 300, 'url': 'https://i.scdn.co/image/ab67616d00001e0276451c7c60866a3ccd75ac2b'}, {'height': 64, 'width': 64, 'url': 'https://i.scdn.co/image/ab67616d0000485176451c7c60866a3ccd75ac2b'}], 'is_playable': True, 'name': 'TVアニメ「多田くんは恋をしない」オープニングテーマ「オトモダチフィルム」', 'release_date': '2018-05-23', 'release_date_precision': 'day', 'total_tracks': 4, 'type': 'album', 'uri': 'spotify:album:50w1xiMLginyYcDnU2RE7f'}, 'artists': [{'external_urls': {'spotify': 'https://open.spotify.com/artist/5fuEw5UqrTkW8hVAbBClv2'}, 'href': 'https://api.spotify.com/v1/artists/5fuEw5UqrTkW8hVAbBClv2', 'id': '5fuEw5UqrTkW8hVAbBClv2', 'name': 'オーイシマサヨシ', 'type': 'artist', 'uri': 'spotify:artist:5fuEw5UqrTkW8hVAbBClv2'}], 'available_markets': ['JP'], 'disc_number': 1, 'duration_ms': 211373, 'explicit': False, 'external_ids': {'isrc': 'JPD731800246'}, 'external_urls': {'spotify': 'https://open.spotify.com/track/1s4sRRnzMaQDvVyvKJ7b8t'}, 'href': 'https://api.spotify.com/v1/tracks/1s4sRRnzMaQDvVyvKJ7b8t', 'id': '1s4sRRnzMaQDvVyvKJ7b8t', 'is_local': False, 'is_playable': True, 'name': 'オトモダチフィルム', 'popularity': 36, 'preview_url': None, 'track_number': 1, 'type': 'track', 'uri': 'spotify:track:1s4sRRnzMaQDvVyvKJ7b8t'}\n",
      "オトモダチフィルム : 1s4sRRnzMaQDvVyvKJ7b8t\n",
      "{'album': {'album_type': 'single', 'artists': [{'external_urls': {'spotify': 'https://open.spotify.com/artist/2NmgIfLAFl1DD1FZOY4YqC'}, 'href': 'https://api.spotify.com/v1/artists/2NmgIfLAFl1DD1FZOY4YqC', 'id': '2NmgIfLAFl1DD1FZOY4YqC', 'name': 'Masayoshi Oishi', 'type': 'artist', 'uri': 'spotify:artist:2NmgIfLAFl1DD1FZOY4YqC'}], 'available_markets': ['JP'], 'external_urls': {'spotify': 'https://open.spotify.com/album/25UEVTOHzwFvYbjxlE8I0r'}, 'href': 'https://api.spotify.com/v1/albums/25UEVTOHzwFvYbjxlE8I0r', 'id': '25UEVTOHzwFvYbjxlE8I0r', 'images': [{'height': 640, 'width': 640, 'url': 'https://i.scdn.co/image/ab67616d0000b273c7f96a164ad3f2497be26d76'}, {'height': 300, 'width': 300, 'url': 'https://i.scdn.co/image/ab67616d00001e02c7f96a164ad3f2497be26d76'}, {'height': 64, 'width': 64, 'url': 'https://i.scdn.co/image/ab67616d00004851c7f96a164ad3f2497be26d76'}], 'is_playable': True, 'name': \"L'oN\", 'release_date': '2025-01-12', 'release_date_precision': 'day', 'total_tracks': 1, 'type': 'album', 'uri': 'spotify:album:25UEVTOHzwFvYbjxlE8I0r'}, 'artists': [{'external_urls': {'spotify': 'https://open.spotify.com/artist/2NmgIfLAFl1DD1FZOY4YqC'}, 'href': 'https://api.spotify.com/v1/artists/2NmgIfLAFl1DD1FZOY4YqC', 'id': '2NmgIfLAFl1DD1FZOY4YqC', 'name': 'Masayoshi Oishi', 'type': 'artist', 'uri': 'spotify:artist:2NmgIfLAFl1DD1FZOY4YqC'}], 'available_markets': ['JP'], 'disc_number': 1, 'duration_ms': 224817, 'explicit': False, 'external_ids': {'isrc': 'JPPC02510054'}, 'external_urls': {'spotify': 'https://open.spotify.com/track/4yVejRcrUFMw30Gc4ZtTas'}, 'href': 'https://api.spotify.com/v1/tracks/4yVejRcrUFMw30Gc4ZtTas', 'id': '4yVejRcrUFMw30Gc4ZtTas', 'is_local': False, 'is_playable': True, 'name': \"L'oN\", 'popularity': 45, 'preview_url': None, 'track_number': 1, 'type': 'track', 'uri': 'spotify:track:4yVejRcrUFMw30Gc4ZtTas'}\n",
      "L'oN : 4yVejRcrUFMw30Gc4ZtTas\n",
      "{'album': {'album_type': 'album', 'artists': [{'external_urls': {'spotify': 'https://open.spotify.com/artist/2NmgIfLAFl1DD1FZOY4YqC'}, 'href': 'https://api.spotify.com/v1/artists/2NmgIfLAFl1DD1FZOY4YqC', 'id': '2NmgIfLAFl1DD1FZOY4YqC', 'name': 'Masayoshi Oishi', 'type': 'artist', 'uri': 'spotify:artist:2NmgIfLAFl1DD1FZOY4YqC'}], 'available_markets': ['JP'], 'external_urls': {'spotify': 'https://open.spotify.com/album/6bMTvsdVcSvYMkib8VKSTU'}, 'href': 'https://api.spotify.com/v1/albums/6bMTvsdVcSvYMkib8VKSTU', 'id': '6bMTvsdVcSvYMkib8VKSTU', 'images': [{'height': 640, 'width': 640, 'url': 'https://i.scdn.co/image/ab67616d0000b273d9ab4093c54dbd98b707c8ba'}, {'height': 300, 'width': 300, 'url': 'https://i.scdn.co/image/ab67616d00001e02d9ab4093c54dbd98b707c8ba'}, {'height': 64, 'width': 64, 'url': 'https://i.scdn.co/image/ab67616d00004851d9ab4093c54dbd98b707c8ba'}], 'is_playable': True, 'name': 'オーイシ武道館 ～オーイシマサヨシ ワンマンライブ at 日本武道館～', 'release_date': '2025-03-02', 'release_date_precision': 'day', 'total_tracks': 21, 'type': 'album', 'uri': 'spotify:album:6bMTvsdVcSvYMkib8VKSTU'}, 'artists': [{'external_urls': {'spotify': 'https://open.spotify.com/artist/2NmgIfLAFl1DD1FZOY4YqC'}, 'href': 'https://api.spotify.com/v1/artists/2NmgIfLAFl1DD1FZOY4YqC', 'id': '2NmgIfLAFl1DD1FZOY4YqC', 'name': 'Masayoshi Oishi', 'type': 'artist', 'uri': 'spotify:artist:2NmgIfLAFl1DD1FZOY4YqC'}], 'available_markets': ['JP'], 'disc_number': 1, 'duration_ms': 216126, 'explicit': False, 'external_ids': {'isrc': 'JPPC02412157'}, 'external_urls': {'spotify': 'https://open.spotify.com/track/5JHJWidVyp8vg13TOJcRtq'}, 'href': 'https://api.spotify.com/v1/tracks/5JHJWidVyp8vg13TOJcRtq', 'id': '5JHJWidVyp8vg13TOJcRtq', 'is_local': False, 'is_playable': True, 'name': 'オトモダチフィルム - Live at 日本武道館, 2024.3.2', 'popularity': 21, 'preview_url': None, 'track_number': 2, 'type': 'track', 'uri': 'spotify:track:5JHJWidVyp8vg13TOJcRtq'}\n",
      "オトモダチフィルム - Live at 日本武道館, 2024.3.2 : 5JHJWidVyp8vg13TOJcRtq\n"
     ]
    }
   ],
   "source": [
    "results = sp.search(q=\"オーイシマサヨシ\", limit=5, type=\"track\")\n",
    "for track in results[\"tracks\"][\"items\"]:\n",
    "    print(f\"{track}\")\n",
    "    name = track[\"name\"]\n",
    "    track_id = track[\"id\"]\n",
    "    # track_info = sp.audio_features(track_id)\n",
    "    # bpm = track_info[0][\"tempo\"]\n",
    "    # print(f\"{name} : {bpm}\")\n",
    "    print(f\"{name} : {track_id}\")"
   ]
  },
  {
   "cell_type": "code",
   "execution_count": null,
   "metadata": {},
   "outputs": [],
   "source": []
  }
 ],
 "metadata": {
  "kernelspec": {
   "display_name": "Python 3",
   "language": "python",
   "name": "python3"
  },
  "language_info": {
   "codemirror_mode": {
    "name": "ipython",
    "version": 3
   },
   "file_extension": ".py",
   "mimetype": "text/x-python",
   "name": "python",
   "nbconvert_exporter": "python",
   "pygments_lexer": "ipython3",
   "version": "3.11.11"
  }
 },
 "nbformat": 4,
 "nbformat_minor": 2
}
