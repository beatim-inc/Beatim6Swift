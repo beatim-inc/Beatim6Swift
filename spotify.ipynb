{
 "cells": [
  {
   "cell_type": "code",
   "execution_count": 1,
   "metadata": {},
   "outputs": [],
   "source": [
    "import json\n",
    "import spotipy\n",
    "from spotipy.oauth2 import SpotifyClientCredentials\n",
    "\n",
    "# Spotify API 認証情報\n",
    "with open(\"config.json\", \"r\") as f:\n",
    "    config = json.load(f)\n",
    "\n",
    "CLIENT_ID = config[\"CLIENT_ID\"]\n",
    "CLIENT_SECRET = config[\"CLIENT_SECRET\"]\n",
    "\n",
    "#spotifyインスタンスを作成\n",
    "sp = spotipy.Spotify(\n",
    "    auth_manager=SpotifyClientCredentials(\n",
    "        client_id=CLIENT_ID, #Client ID\n",
    "\t    client_secret=CLIENT_SECRET, #Client Secret\n",
    "    )\n",
    ")"
   ]
  },
  {
   "cell_type": "code",
   "execution_count": 2,
   "metadata": {},
   "outputs": [
    {
     "name": "stdout",
     "output_type": "stream",
     "text": [
      "{'album': {'album_type': 'album', 'artists': [{'external_urls': {'spotify': 'https://open.spotify.com/artist/5iISQR00Eel3mcB8eKlsRt'}, 'href': 'https://api.spotify.com/v1/artists/5iISQR00Eel3mcB8eKlsRt', 'id': '5iISQR00Eel3mcB8eKlsRt', 'name': 'showmore', 'type': 'artist', 'uri': 'spotify:artist:5iISQR00Eel3mcB8eKlsRt'}], 'available_markets': ['JP'], 'external_urls': {'spotify': 'https://open.spotify.com/album/6rg6kbv3V6YzU4GMmVglN0'}, 'href': 'https://api.spotify.com/v1/albums/6rg6kbv3V6YzU4GMmVglN0', 'id': '6rg6kbv3V6YzU4GMmVglN0', 'images': [{'height': 640, 'width': 640, 'url': 'https://i.scdn.co/image/ab67616d0000b27395aacc62a78199ed9e3dc760'}, {'height': 300, 'width': 300, 'url': 'https://i.scdn.co/image/ab67616d00001e0295aacc62a78199ed9e3dc760'}, {'height': 64, 'width': 64, 'url': 'https://i.scdn.co/image/ab67616d0000485195aacc62a78199ed9e3dc760'}], 'is_playable': True, 'name': 'too close to know', 'release_date': '2019-12-18', 'release_date_precision': 'day', 'total_tracks': 10, 'type': 'album', 'uri': 'spotify:album:6rg6kbv3V6YzU4GMmVglN0'}, 'artists': [{'external_urls': {'spotify': 'https://open.spotify.com/artist/5iISQR00Eel3mcB8eKlsRt'}, 'href': 'https://api.spotify.com/v1/artists/5iISQR00Eel3mcB8eKlsRt', 'id': '5iISQR00Eel3mcB8eKlsRt', 'name': 'showmore', 'type': 'artist', 'uri': 'spotify:artist:5iISQR00Eel3mcB8eKlsRt'}], 'available_markets': ['JP'], 'disc_number': 1, 'duration_ms': 212233, 'explicit': False, 'external_ids': {'isrc': 'TCJPH1857728'}, 'external_urls': {'spotify': 'https://open.spotify.com/track/4gnwSc3RbSMvjNkB5MtL4p'}, 'href': 'https://api.spotify.com/v1/tracks/4gnwSc3RbSMvjNkB5MtL4p', 'id': '4gnwSc3RbSMvjNkB5MtL4p', 'is_local': False, 'is_playable': True, 'name': '1mm', 'popularity': 20, 'preview_url': None, 'track_number': 8, 'type': 'track', 'uri': 'spotify:track:4gnwSc3RbSMvjNkB5MtL4p'}\n",
      "1mm : 4gnwSc3RbSMvjNkB5MtL4p\n",
      "{'album': {'album_type': 'single', 'artists': [{'external_urls': {'spotify': 'https://open.spotify.com/artist/5iISQR00Eel3mcB8eKlsRt'}, 'href': 'https://api.spotify.com/v1/artists/5iISQR00Eel3mcB8eKlsRt', 'id': '5iISQR00Eel3mcB8eKlsRt', 'name': 'showmore', 'type': 'artist', 'uri': 'spotify:artist:5iISQR00Eel3mcB8eKlsRt'}], 'available_markets': ['JP'], 'external_urls': {'spotify': 'https://open.spotify.com/album/0tDANTwkIoRK5szkotMMsj'}, 'href': 'https://api.spotify.com/v1/albums/0tDANTwkIoRK5szkotMMsj', 'id': '0tDANTwkIoRK5szkotMMsj', 'images': [{'height': 640, 'width': 640, 'url': 'https://i.scdn.co/image/ab67616d0000b273d7ce62d00274b3f4749bc092'}, {'height': 300, 'width': 300, 'url': 'https://i.scdn.co/image/ab67616d00001e02d7ce62d00274b3f4749bc092'}, {'height': 64, 'width': 64, 'url': 'https://i.scdn.co/image/ab67616d00004851d7ce62d00274b3f4749bc092'}], 'is_playable': True, 'name': 'Jazz Attitude Vol.2 - garland', 'release_date': '2022-04-27', 'release_date_precision': 'day', 'total_tracks': 3, 'type': 'album', 'uri': 'spotify:album:0tDANTwkIoRK5szkotMMsj'}, 'artists': [{'external_urls': {'spotify': 'https://open.spotify.com/artist/5iISQR00Eel3mcB8eKlsRt'}, 'href': 'https://api.spotify.com/v1/artists/5iISQR00Eel3mcB8eKlsRt', 'id': '5iISQR00Eel3mcB8eKlsRt', 'name': 'showmore', 'type': 'artist', 'uri': 'spotify:artist:5iISQR00Eel3mcB8eKlsRt'}], 'available_markets': ['JP'], 'disc_number': 1, 'duration_ms': 291764, 'explicit': False, 'external_ids': {'isrc': 'TCJPR2264653'}, 'external_urls': {'spotify': 'https://open.spotify.com/track/1klBZ5RmiurSZPVsmNDfeD'}, 'href': 'https://api.spotify.com/v1/tracks/1klBZ5RmiurSZPVsmNDfeD', 'id': '1klBZ5RmiurSZPVsmNDfeD', 'is_local': False, 'is_playable': True, 'name': '1mm - Jazz Ver', 'popularity': 12, 'preview_url': None, 'track_number': 1, 'type': 'track', 'uri': 'spotify:track:1klBZ5RmiurSZPVsmNDfeD'}\n",
      "1mm - Jazz Ver : 1klBZ5RmiurSZPVsmNDfeD\n",
      "{'album': {'album_type': 'single', 'artists': [{'external_urls': {'spotify': 'https://open.spotify.com/artist/5iISQR00Eel3mcB8eKlsRt'}, 'href': 'https://api.spotify.com/v1/artists/5iISQR00Eel3mcB8eKlsRt', 'id': '5iISQR00Eel3mcB8eKlsRt', 'name': 'showmore', 'type': 'artist', 'uri': 'spotify:artist:5iISQR00Eel3mcB8eKlsRt'}], 'available_markets': ['JP'], 'external_urls': {'spotify': 'https://open.spotify.com/album/13zzYWj7J3AZWOjfCksMOS'}, 'href': 'https://api.spotify.com/v1/albums/13zzYWj7J3AZWOjfCksMOS', 'id': '13zzYWj7J3AZWOjfCksMOS', 'images': [{'height': 640, 'width': 640, 'url': 'https://i.scdn.co/image/ab67616d0000b27340e81f535533b9ac7c9ecd2b'}, {'height': 300, 'width': 300, 'url': 'https://i.scdn.co/image/ab67616d00001e0240e81f535533b9ac7c9ecd2b'}, {'height': 64, 'width': 64, 'url': 'https://i.scdn.co/image/ab67616d0000485140e81f535533b9ac7c9ecd2b'}], 'is_playable': True, 'name': '1mm', 'release_date': '2018-08-08', 'release_date_precision': 'day', 'total_tracks': 1, 'type': 'album', 'uri': 'spotify:album:13zzYWj7J3AZWOjfCksMOS'}, 'artists': [{'external_urls': {'spotify': 'https://open.spotify.com/artist/5iISQR00Eel3mcB8eKlsRt'}, 'href': 'https://api.spotify.com/v1/artists/5iISQR00Eel3mcB8eKlsRt', 'id': '5iISQR00Eel3mcB8eKlsRt', 'name': 'showmore', 'type': 'artist', 'uri': 'spotify:artist:5iISQR00Eel3mcB8eKlsRt'}], 'available_markets': ['JP'], 'disc_number': 1, 'duration_ms': 207492, 'explicit': False, 'external_ids': {'isrc': 'TCJPH1857728'}, 'external_urls': {'spotify': 'https://open.spotify.com/track/48q1fMJb6kM4O4gBGU3oAU'}, 'href': 'https://api.spotify.com/v1/tracks/48q1fMJb6kM4O4gBGU3oAU', 'id': '48q1fMJb6kM4O4gBGU3oAU', 'is_local': False, 'is_playable': True, 'name': '1mm', 'popularity': 6, 'preview_url': None, 'track_number': 1, 'type': 'track', 'uri': 'spotify:track:48q1fMJb6kM4O4gBGU3oAU'}\n",
      "1mm : 48q1fMJb6kM4O4gBGU3oAU\n",
      "{'album': {'album_type': 'album', 'artists': [{'external_urls': {'spotify': 'https://open.spotify.com/artist/5iISQR00Eel3mcB8eKlsRt'}, 'href': 'https://api.spotify.com/v1/artists/5iISQR00Eel3mcB8eKlsRt', 'id': '5iISQR00Eel3mcB8eKlsRt', 'name': 'showmore', 'type': 'artist', 'uri': 'spotify:artist:5iISQR00Eel3mcB8eKlsRt'}], 'available_markets': ['JP'], 'external_urls': {'spotify': 'https://open.spotify.com/album/6rg6kbv3V6YzU4GMmVglN0'}, 'href': 'https://api.spotify.com/v1/albums/6rg6kbv3V6YzU4GMmVglN0', 'id': '6rg6kbv3V6YzU4GMmVglN0', 'images': [{'height': 640, 'width': 640, 'url': 'https://i.scdn.co/image/ab67616d0000b27395aacc62a78199ed9e3dc760'}, {'height': 300, 'width': 300, 'url': 'https://i.scdn.co/image/ab67616d00001e0295aacc62a78199ed9e3dc760'}, {'height': 64, 'width': 64, 'url': 'https://i.scdn.co/image/ab67616d0000485195aacc62a78199ed9e3dc760'}], 'is_playable': True, 'name': 'too close to know', 'release_date': '2019-12-18', 'release_date_precision': 'day', 'total_tracks': 10, 'type': 'album', 'uri': 'spotify:album:6rg6kbv3V6YzU4GMmVglN0'}, 'artists': [{'external_urls': {'spotify': 'https://open.spotify.com/artist/5iISQR00Eel3mcB8eKlsRt'}, 'href': 'https://api.spotify.com/v1/artists/5iISQR00Eel3mcB8eKlsRt', 'id': '5iISQR00Eel3mcB8eKlsRt', 'name': 'showmore', 'type': 'artist', 'uri': 'spotify:artist:5iISQR00Eel3mcB8eKlsRt'}, {'external_urls': {'spotify': 'https://open.spotify.com/artist/1HzcHe0WFm4koBalCEOkVh'}, 'href': 'https://api.spotify.com/v1/artists/1HzcHe0WFm4koBalCEOkVh', 'id': '1HzcHe0WFm4koBalCEOkVh', 'name': 'SIRUP', 'type': 'artist', 'uri': 'spotify:artist:1HzcHe0WFm4koBalCEOkVh'}], 'available_markets': ['JP'], 'disc_number': 1, 'duration_ms': 254362, 'explicit': False, 'external_ids': {'isrc': 'TCJPI1969279'}, 'external_urls': {'spotify': 'https://open.spotify.com/track/45yeOHy3dLEzzoCxNL6G1z'}, 'href': 'https://api.spotify.com/v1/tracks/45yeOHy3dLEzzoCxNL6G1z', 'id': '45yeOHy3dLEzzoCxNL6G1z', 'is_local': False, 'is_playable': True, 'name': 'now (feat. SIRUP)', 'popularity': 33, 'preview_url': None, 'track_number': 3, 'type': 'track', 'uri': 'spotify:track:45yeOHy3dLEzzoCxNL6G1z'}\n",
      "now (feat. SIRUP) : 45yeOHy3dLEzzoCxNL6G1z\n",
      "{'album': {'album_type': 'album', 'artists': [{'external_urls': {'spotify': 'https://open.spotify.com/artist/1zHcoqaTvlZdEd7CUjk2eI'}, 'href': 'https://api.spotify.com/v1/artists/1zHcoqaTvlZdEd7CUjk2eI', 'id': '1zHcoqaTvlZdEd7CUjk2eI', 'name': 'ANARCHY', 'type': 'artist', 'uri': 'spotify:artist:1zHcoqaTvlZdEd7CUjk2eI'}], 'available_markets': ['AR', 'AU', 'AT', 'BE', 'BO', 'BR', 'BG', 'CA', 'CL', 'CO', 'CR', 'CY', 'CZ', 'DK', 'DO', 'DE', 'EC', 'EE', 'SV', 'FI', 'FR', 'GR', 'GT', 'HN', 'HK', 'HU', 'IS', 'IE', 'IT', 'LV', 'LT', 'LU', 'MY', 'MT', 'MX', 'NL', 'NZ', 'NI', 'NO', 'PA', 'PY', 'PE', 'PH', 'PL', 'PT', 'SG', 'SK', 'ES', 'SE', 'CH', 'TW', 'TR', 'UY', 'US', 'GB', 'AD', 'LI', 'MC', 'ID', 'JP', 'TH', 'VN', 'RO', 'IL', 'ZA', 'SA', 'AE', 'BH', 'QA', 'OM', 'KW', 'EG', 'MA', 'DZ', 'TN', 'LB', 'JO', 'PS', 'IN', 'BY', 'KZ', 'MD', 'UA', 'AL', 'BA', 'HR', 'ME', 'MK', 'RS', 'SI', 'KR', 'BD', 'PK', 'LK', 'GH', 'KE', 'NG', 'TZ', 'UG', 'AG', 'AM', 'BS', 'BB', 'BZ', 'BT', 'BW', 'BF', 'CV', 'CW', 'DM', 'FJ', 'GM', 'GE', 'GD', 'GW', 'GY', 'HT', 'JM', 'KI', 'LS', 'LR', 'MW', 'MV', 'ML', 'MH', 'FM', 'NA', 'NR', 'NE', 'PW', 'PG', 'PR', 'WS', 'SM', 'ST', 'SN', 'SC', 'SL', 'SB', 'KN', 'LC', 'VC', 'SR', 'TL', 'TO', 'TT', 'TV', 'VU', 'AZ', 'BN', 'BI', 'KH', 'CM', 'TD', 'KM', 'GQ', 'SZ', 'GA', 'GN', 'KG', 'LA', 'MO', 'MR', 'MN', 'NP', 'RW', 'TG', 'UZ', 'ZW', 'BJ', 'MG', 'MU', 'MZ', 'AO', 'CI', 'DJ', 'ZM', 'CD', 'CG', 'IQ', 'LY', 'TJ', 'VE', 'ET', 'XK'], 'external_urls': {'spotify': 'https://open.spotify.com/album/1QDrgcnHNmh2GhKugETQCz'}, 'href': 'https://api.spotify.com/v1/albums/1QDrgcnHNmh2GhKugETQCz', 'id': '1QDrgcnHNmh2GhKugETQCz', 'images': [{'height': 640, 'width': 640, 'url': 'https://i.scdn.co/image/ab67616d0000b2730ddc312c8bd7922e9885e466'}, {'height': 300, 'width': 300, 'url': 'https://i.scdn.co/image/ab67616d00001e020ddc312c8bd7922e9885e466'}, {'height': 64, 'width': 64, 'url': 'https://i.scdn.co/image/ab67616d000048510ddc312c8bd7922e9885e466'}], 'is_playable': True, 'name': 'LAST', 'release_date': '2024-11-27', 'release_date_precision': 'day', 'total_tracks': 9, 'type': 'album', 'uri': 'spotify:album:1QDrgcnHNmh2GhKugETQCz'}, 'artists': [{'external_urls': {'spotify': 'https://open.spotify.com/artist/1zHcoqaTvlZdEd7CUjk2eI'}, 'href': 'https://api.spotify.com/v1/artists/1zHcoqaTvlZdEd7CUjk2eI', 'id': '1zHcoqaTvlZdEd7CUjk2eI', 'name': 'ANARCHY', 'type': 'artist', 'uri': 'spotify:artist:1zHcoqaTvlZdEd7CUjk2eI'}, {'external_urls': {'spotify': 'https://open.spotify.com/artist/0qMwn0A1NkYRIo8jyOMygH'}, 'href': 'https://api.spotify.com/v1/artists/0qMwn0A1NkYRIo8jyOMygH', 'id': '0qMwn0A1NkYRIo8jyOMygH', 'name': 'ZOT on the WAVE', 'type': 'artist', 'uri': 'spotify:artist:0qMwn0A1NkYRIo8jyOMygH'}, {'external_urls': {'spotify': 'https://open.spotify.com/artist/244odVvt89Qx3RNgzeXdMF'}, 'href': 'https://api.spotify.com/v1/artists/244odVvt89Qx3RNgzeXdMF', 'id': '244odVvt89Qx3RNgzeXdMF', 'name': 'dubby bunny', 'type': 'artist', 'uri': 'spotify:artist:244odVvt89Qx3RNgzeXdMF'}], 'available_markets': ['AR', 'AU', 'AT', 'BE', 'BO', 'BR', 'BG', 'CA', 'CL', 'CO', 'CR', 'CY', 'CZ', 'DK', 'DO', 'DE', 'EC', 'EE', 'SV', 'FI', 'FR', 'GR', 'GT', 'HN', 'HK', 'HU', 'IS', 'IE', 'IT', 'LV', 'LT', 'LU', 'MY', 'MT', 'MX', 'NL', 'NZ', 'NI', 'NO', 'PA', 'PY', 'PE', 'PH', 'PL', 'PT', 'SG', 'SK', 'ES', 'SE', 'CH', 'TW', 'TR', 'UY', 'US', 'GB', 'AD', 'LI', 'MC', 'ID', 'JP', 'TH', 'VN', 'RO', 'IL', 'ZA', 'SA', 'AE', 'BH', 'QA', 'OM', 'KW', 'EG', 'MA', 'DZ', 'TN', 'LB', 'JO', 'PS', 'IN', 'BY', 'KZ', 'MD', 'UA', 'AL', 'BA', 'HR', 'ME', 'MK', 'RS', 'SI', 'KR', 'BD', 'PK', 'LK', 'GH', 'KE', 'NG', 'TZ', 'UG', 'AG', 'AM', 'BS', 'BB', 'BZ', 'BT', 'BW', 'BF', 'CV', 'CW', 'DM', 'FJ', 'GM', 'GE', 'GD', 'GW', 'GY', 'HT', 'JM', 'KI', 'LS', 'LR', 'MW', 'MV', 'ML', 'MH', 'FM', 'NA', 'NR', 'NE', 'PW', 'PG', 'PR', 'WS', 'SM', 'ST', 'SN', 'SC', 'SL', 'SB', 'KN', 'LC', 'VC', 'SR', 'TL', 'TO', 'TT', 'TV', 'VU', 'AZ', 'BN', 'BI', 'KH', 'CM', 'TD', 'KM', 'GQ', 'SZ', 'GA', 'GN', 'KG', 'LA', 'MO', 'MR', 'MN', 'NP', 'RW', 'TG', 'UZ', 'ZW', 'BJ', 'MG', 'MU', 'MZ', 'AO', 'CI', 'DJ', 'ZM', 'CD', 'CG', 'IQ', 'LY', 'TJ', 'VE', 'ET', 'XK'], 'disc_number': 1, 'duration_ms': 199751, 'explicit': False, 'external_ids': {'isrc': 'QMDA72455207'}, 'external_urls': {'spotify': 'https://open.spotify.com/track/6pgaBfNda0GKVdz65ZgaBY'}, 'href': 'https://api.spotify.com/v1/tracks/6pgaBfNda0GKVdz65ZgaBY', 'id': '6pgaBfNda0GKVdz65ZgaBY', 'is_local': False, 'is_playable': True, 'name': '1mm', 'popularity': 37, 'preview_url': None, 'track_number': 6, 'type': 'track', 'uri': 'spotify:track:6pgaBfNda0GKVdz65ZgaBY'}\n",
      "1mm : 6pgaBfNda0GKVdz65ZgaBY\n"
     ]
    }
   ],
   "source": [
    "results = sp.search(q=\"showmore 1mm\", limit=5, type=\"track\")\n",
    "for track in results[\"tracks\"][\"items\"]:\n",
    "    print(f\"{track}\")\n",
    "    name = track[\"name\"]\n",
    "    track_id = track[\"id\"]\n",
    "    # track_info = sp.audio_features(track_id)\n",
    "    # bpm = track_info[0][\"tempo\"]\n",
    "    # print(f\"{name} : {bpm}\")\n",
    "    print(f\"{name} : {track_id}\")"
   ]
  },
  {
   "cell_type": "code",
   "execution_count": null,
   "metadata": {},
   "outputs": [],
   "source": []
  }
 ],
 "metadata": {
  "kernelspec": {
   "display_name": "Python 3",
   "language": "python",
   "name": "python3"
  },
  "language_info": {
   "codemirror_mode": {
    "name": "ipython",
    "version": 3
   },
   "file_extension": ".py",
   "mimetype": "text/x-python",
   "name": "python",
   "nbconvert_exporter": "python",
   "pygments_lexer": "ipython3",
   "version": "3.11.11"
  }
 },
 "nbformat": 4,
 "nbformat_minor": 2
}
