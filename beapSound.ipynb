{
 "cells": [
  {
   "cell_type": "code",
   "execution_count": 10,
   "metadata": {},
   "outputs": [],
   "source": [
    "import numpy as np\n",
    "import simpleaudio as sa\n",
    "from scipy.io.wavfile import write\n",
    "from pydub import AudioSegment\n",
    "import os\n",
    "\n",
    "# パラメータ\n",
    "frequency = 880  # Hz (A4)\n",
    "duration = 0.2   # 秒\n",
    "sample_rate = 44100  # Hz\n",
    "\n",
    "# サイン波を生成\n",
    "t = np.linspace(0, duration, int(sample_rate * duration), False)\n",
    "wave = np.sin(frequency * 2 * np.pi * t)\n",
    "\n",
    "# 音量を調整して16bit整数に変換\n",
    "audio = (wave * 32767).astype(np.int16)\n",
    "\n",
    "# 再生\n",
    "play_obj = sa.play_buffer(audio, 1, 2, sample_rate)\n",
    "play_obj.wait_done()\n",
    "\n",
    "# 保存\n",
    "write(\"temp.wav\", sample_rate, audio)\n",
    "\n",
    "# MP3に変換\n",
    "sound = AudioSegment.from_wav(\"temp.wav\")\n",
    "sound.export(\"beep.mp3\", format=\"mp3\")\n",
    "\n",
    "# 一時ファイル削除（任意）\n",
    "os.remove(\"temp.wav\")\n"
   ]
  },
  {
   "cell_type": "code",
   "execution_count": null,
   "metadata": {},
   "outputs": [],
   "source": []
  }
 ],
 "metadata": {
  "kernelspec": {
   "display_name": "Python 3",
   "language": "python",
   "name": "python3"
  },
  "language_info": {
   "codemirror_mode": {
    "name": "ipython",
    "version": 3
   },
   "file_extension": ".py",
   "mimetype": "text/x-python",
   "name": "python",
   "nbconvert_exporter": "python",
   "pygments_lexer": "ipython3",
   "version": "3.11.12"
  }
 },
 "nbformat": 4,
 "nbformat_minor": 2
}
